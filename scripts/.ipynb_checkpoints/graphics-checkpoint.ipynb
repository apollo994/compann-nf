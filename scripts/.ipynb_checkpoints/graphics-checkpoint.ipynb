{
 "cells": [
  {
   "cell_type": "code",
   "execution_count": 1,
   "metadata": {},
   "outputs": [],
   "source": [
    "import pandas as pd \n",
    "import seaborn as sns "
   ]
  },
  {
   "cell_type": "code",
   "execution_count": null,
   "metadata": {},
   "outputs": [],
   "source": [
    "def print_heatmap(matrix, metric):\n",
    "\n",
    "    g = sns.clustermap(matrix,\n",
    "                   annot=True,\n",
    "                   fmt=\".1f\",\n",
    "                   annot_kws={\"size\": 18}\n",
    "                   )\n",
    "\n",
    "    g.ax_heatmap.tick_params(labelsize=18)\n",
    "    g.ax_heatmap.set_title(metric, size = 28, y = 1.3)\n",
    "#     g.savefig(f\"{metric}.png\") \n"
   ]
  },
  {
   "cell_type": "code",
   "execution_count": 5,
   "metadata": {},
   "outputs": [],
   "source": [
    "a = ! ls ../out/*/*level*"
   ]
  },
  {
   "cell_type": "code",
   "execution_count": 7,
   "metadata": {},
   "outputs": [
    {
     "name": "stdout",
     "output_type": "stream",
     "text": [
      "../out/al/al_base_level_Pr.csv\n",
      "../out/al/al_base_level_Se.csv\n",
      "../out/al/al_transcript_level_Pr.csv\n",
      "../out/al/al_transcript_level_Se.csv\n",
      "../out/cc/cc_base_level_Pr.csv\n",
      "../out/cc/cc_base_level_Se.csv\n",
      "../out/cc/cc_transcript_level_Pr.csv\n",
      "../out/cc/cc_transcript_level_Se.csv\n",
      "../out/dm/dm_base_level_Pr.csv\n",
      "../out/dm/dm_base_level_Se.csv\n",
      "../out/dm/dm_transcript_level_Pr.csv\n",
      "../out/dm/dm_transcript_level_Se.csv\n",
      "../out/hh/hh_base_level_Pr.csv\n",
      "../out/hh/hh_base_level_Se.csv\n",
      "../out/hh/hh_transcript_level_Pr.csv\n",
      "../out/hh/hh_transcript_level_Se.csv\n",
      "../out/hs/hs_base_level_Pr.csv\n",
      "../out/hs/hs_base_level_Se.csv\n",
      "../out/hs/hs_transcript_level_Pr.csv\n",
      "../out/hs/hs_transcript_level_Se.csv\n",
      "../out/lm/lm_base_level_Pr.csv\n",
      "../out/lm/lm_base_level_Se.csv\n",
      "../out/lm/lm_transcript_level_Pr.csv\n",
      "../out/lm/lm_transcript_level_Se.csv\n"
     ]
    }
   ],
   "source": [
    "for s in a:\n",
    "    print (s)\n",
    "    species = s.split('/')[2]\n",
    "    df = pd.read_csv(s)"
   ]
  },
  {
   "cell_type": "code",
   "execution_count": null,
   "metadata": {},
   "outputs": [],
   "source": []
  }
 ],
 "metadata": {
  "kernelspec": {
   "display_name": "Python 3",
   "language": "python",
   "name": "python3"
  },
  "language_info": {
   "codemirror_mode": {
    "name": "ipython",
    "version": 3
   },
   "file_extension": ".py",
   "mimetype": "text/x-python",
   "name": "python",
   "nbconvert_exporter": "python",
   "pygments_lexer": "ipython3",
   "version": "3.7.3"
  }
 },
 "nbformat": 4,
 "nbformat_minor": 2
}
